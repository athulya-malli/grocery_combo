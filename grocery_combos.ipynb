{
  "nbformat": 4,
  "nbformat_minor": 0,
  "metadata": {
    "colab": {
      "name": "MRA Project ML2.ipynb",
      "provenance": [],
      "collapsed_sections": []
    },
    "kernelspec": {
      "name": "python3",
      "display_name": "Python 3"
    },
    "language_info": {
      "name": "python"
    }
  },
  "cells": [
    {
      "cell_type": "markdown",
      "source": [
        "Problem statement:"
      ],
      "metadata": {
        "id": "Nxpgkl4o4Ypj"
      }
    },
    {
      "cell_type": "markdown",
      "source": [
        "A Grocery Store shared the transactional data with you. Your job is to identify the most popular combos that can be suggested to the Grocery Store chain after a thorough analysis of the most commonly occurring sets of menu items in the customer orders. The Store doesn’t have any combo meals. Can you suggest the best combo meals?\n",
        "\n",
        "Data: dataset_group.csv"
      ],
      "metadata": {
        "id": "okGmoCee4bzV"
      }
    },
    {
      "cell_type": "code",
      "source": [
        "from google.colab import files\n",
        "uploaded = files.upload()"
      ],
      "metadata": {
        "colab": {
          "resources": {
            "http://localhost:8080/nbextensions/google.colab/files.js": {
              "data": "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",
              "ok": true,
              "headers": [
                [
                  "content-type",
                  "application/javascript"
                ]
              ],
              "status": 200,
              "status_text": ""
            }
          },
          "base_uri": "https://localhost:8080/",
          "height": 74
        },
        "id": "f5M5TZgu4Y91",
        "outputId": "b87cbe12-bff4-40ed-89ce-cd9c2d54f8d4"
      },
      "execution_count": 1,
      "outputs": [
        {
          "output_type": "display_data",
          "data": {
            "text/plain": [
              "<IPython.core.display.HTML object>"
            ],
            "text/html": [
              "\n",
              "     <input type=\"file\" id=\"files-2fc94b2e-9ca2-4e0c-ae80-cf89568d70c4\" name=\"files[]\" multiple disabled\n",
              "        style=\"border:none\" />\n",
              "     <output id=\"result-2fc94b2e-9ca2-4e0c-ae80-cf89568d70c4\">\n",
              "      Upload widget is only available when the cell has been executed in the\n",
              "      current browser session. Please rerun this cell to enable.\n",
              "      </output>\n",
              "      <script src=\"/nbextensions/google.colab/files.js\"></script> "
            ]
          },
          "metadata": {}
        },
        {
          "output_type": "stream",
          "name": "stdout",
          "text": [
            "Saving dataset_group.csv to dataset_group.csv\n"
          ]
        }
      ]
    },
    {
      "cell_type": "code",
      "execution_count": 2,
      "metadata": {
        "id": "IJzXng4s4KPC"
      },
      "outputs": [],
      "source": [
        "import numpy as np\n",
        "import pandas as pd\n",
        "import matplotlib.pyplot as plt\n",
        "import seaborn as sns\n",
        "%matplotlib inline\n",
        "from scipy import stats\n",
        "import warnings \n",
        "warnings.filterwarnings( \"ignore\")"
      ]
    },
    {
      "cell_type": "code",
      "source": [
        "df = pd.read_csv(\"dataset_group.csv\")"
      ],
      "metadata": {
        "id": "FZqo8ySg4rvO"
      },
      "execution_count": 3,
      "outputs": []
    },
    {
      "cell_type": "markdown",
      "source": [
        "Data Analysis"
      ],
      "metadata": {
        "id": "rTHyq5LL45HB"
      }
    },
    {
      "cell_type": "code",
      "source": [
        "df.head()"
      ],
      "metadata": {
        "colab": {
          "base_uri": "https://localhost:8080/",
          "height": 206
        },
        "id": "rQREesZJ42xz",
        "outputId": "8642e7ad-76de-42be-a0ae-c37f9b71b139"
      },
      "execution_count": 4,
      "outputs": [
        {
          "output_type": "execute_result",
          "data": {
            "text/plain": [
              "         Date  Order_id        Product\n",
              "0  01-01-2018         1         yogurt\n",
              "1  01-01-2018         1           pork\n",
              "2  01-01-2018         1  sandwich bags\n",
              "3  01-01-2018         1     lunch meat\n",
              "4  01-01-2018         1   all- purpose"
            ],
            "text/html": [
              "\n",
              "  <div id=\"df-f42181ed-b3d8-40bf-8ff6-2d5894e7fa94\">\n",
              "    <div class=\"colab-df-container\">\n",
              "      <div>\n",
              "<style scoped>\n",
              "    .dataframe tbody tr th:only-of-type {\n",
              "        vertical-align: middle;\n",
              "    }\n",
              "\n",
              "    .dataframe tbody tr th {\n",
              "        vertical-align: top;\n",
              "    }\n",
              "\n",
              "    .dataframe thead th {\n",
              "        text-align: right;\n",
              "    }\n",
              "</style>\n",
              "<table border=\"1\" class=\"dataframe\">\n",
              "  <thead>\n",
              "    <tr style=\"text-align: right;\">\n",
              "      <th></th>\n",
              "      <th>Date</th>\n",
              "      <th>Order_id</th>\n",
              "      <th>Product</th>\n",
              "    </tr>\n",
              "  </thead>\n",
              "  <tbody>\n",
              "    <tr>\n",
              "      <th>0</th>\n",
              "      <td>01-01-2018</td>\n",
              "      <td>1</td>\n",
              "      <td>yogurt</td>\n",
              "    </tr>\n",
              "    <tr>\n",
              "      <th>1</th>\n",
              "      <td>01-01-2018</td>\n",
              "      <td>1</td>\n",
              "      <td>pork</td>\n",
              "    </tr>\n",
              "    <tr>\n",
              "      <th>2</th>\n",
              "      <td>01-01-2018</td>\n",
              "      <td>1</td>\n",
              "      <td>sandwich bags</td>\n",
              "    </tr>\n",
              "    <tr>\n",
              "      <th>3</th>\n",
              "      <td>01-01-2018</td>\n",
              "      <td>1</td>\n",
              "      <td>lunch meat</td>\n",
              "    </tr>\n",
              "    <tr>\n",
              "      <th>4</th>\n",
              "      <td>01-01-2018</td>\n",
              "      <td>1</td>\n",
              "      <td>all- purpose</td>\n",
              "    </tr>\n",
              "  </tbody>\n",
              "</table>\n",
              "</div>\n",
              "      <button class=\"colab-df-convert\" onclick=\"convertToInteractive('df-f42181ed-b3d8-40bf-8ff6-2d5894e7fa94')\"\n",
              "              title=\"Convert this dataframe to an interactive table.\"\n",
              "              style=\"display:none;\">\n",
              "        \n",
              "  <svg xmlns=\"http://www.w3.org/2000/svg\" height=\"24px\"viewBox=\"0 0 24 24\"\n",
              "       width=\"24px\">\n",
              "    <path d=\"M0 0h24v24H0V0z\" fill=\"none\"/>\n",
              "    <path d=\"M18.56 5.44l.94 2.06.94-2.06 2.06-.94-2.06-.94-.94-2.06-.94 2.06-2.06.94zm-11 1L8.5 8.5l.94-2.06 2.06-.94-2.06-.94L8.5 2.5l-.94 2.06-2.06.94zm10 10l.94 2.06.94-2.06 2.06-.94-2.06-.94-.94-2.06-.94 2.06-2.06.94z\"/><path d=\"M17.41 7.96l-1.37-1.37c-.4-.4-.92-.59-1.43-.59-.52 0-1.04.2-1.43.59L10.3 9.45l-7.72 7.72c-.78.78-.78 2.05 0 2.83L4 21.41c.39.39.9.59 1.41.59.51 0 1.02-.2 1.41-.59l7.78-7.78 2.81-2.81c.8-.78.8-2.07 0-2.86zM5.41 20L4 18.59l7.72-7.72 1.47 1.35L5.41 20z\"/>\n",
              "  </svg>\n",
              "      </button>\n",
              "      \n",
              "  <style>\n",
              "    .colab-df-container {\n",
              "      display:flex;\n",
              "      flex-wrap:wrap;\n",
              "      gap: 12px;\n",
              "    }\n",
              "\n",
              "    .colab-df-convert {\n",
              "      background-color: #E8F0FE;\n",
              "      border: none;\n",
              "      border-radius: 50%;\n",
              "      cursor: pointer;\n",
              "      display: none;\n",
              "      fill: #1967D2;\n",
              "      height: 32px;\n",
              "      padding: 0 0 0 0;\n",
              "      width: 32px;\n",
              "    }\n",
              "\n",
              "    .colab-df-convert:hover {\n",
              "      background-color: #E2EBFA;\n",
              "      box-shadow: 0px 1px 2px rgba(60, 64, 67, 0.3), 0px 1px 3px 1px rgba(60, 64, 67, 0.15);\n",
              "      fill: #174EA6;\n",
              "    }\n",
              "\n",
              "    [theme=dark] .colab-df-convert {\n",
              "      background-color: #3B4455;\n",
              "      fill: #D2E3FC;\n",
              "    }\n",
              "\n",
              "    [theme=dark] .colab-df-convert:hover {\n",
              "      background-color: #434B5C;\n",
              "      box-shadow: 0px 1px 3px 1px rgba(0, 0, 0, 0.15);\n",
              "      filter: drop-shadow(0px 1px 2px rgba(0, 0, 0, 0.3));\n",
              "      fill: #FFFFFF;\n",
              "    }\n",
              "  </style>\n",
              "\n",
              "      <script>\n",
              "        const buttonEl =\n",
              "          document.querySelector('#df-f42181ed-b3d8-40bf-8ff6-2d5894e7fa94 button.colab-df-convert');\n",
              "        buttonEl.style.display =\n",
              "          google.colab.kernel.accessAllowed ? 'block' : 'none';\n",
              "\n",
              "        async function convertToInteractive(key) {\n",
              "          const element = document.querySelector('#df-f42181ed-b3d8-40bf-8ff6-2d5894e7fa94');\n",
              "          const dataTable =\n",
              "            await google.colab.kernel.invokeFunction('convertToInteractive',\n",
              "                                                     [key], {});\n",
              "          if (!dataTable) return;\n",
              "\n",
              "          const docLinkHtml = 'Like what you see? Visit the ' +\n",
              "            '<a target=\"_blank\" href=https://colab.research.google.com/notebooks/data_table.ipynb>data table notebook</a>'\n",
              "            + ' to learn more about interactive tables.';\n",
              "          element.innerHTML = '';\n",
              "          dataTable['output_type'] = 'display_data';\n",
              "          await google.colab.output.renderOutput(dataTable, element);\n",
              "          const docLink = document.createElement('div');\n",
              "          docLink.innerHTML = docLinkHtml;\n",
              "          element.appendChild(docLink);\n",
              "        }\n",
              "      </script>\n",
              "    </div>\n",
              "  </div>\n",
              "  "
            ]
          },
          "metadata": {},
          "execution_count": 4
        }
      ]
    },
    {
      "cell_type": "code",
      "source": [
        "df.shape"
      ],
      "metadata": {
        "colab": {
          "base_uri": "https://localhost:8080/"
        },
        "id": "37dDEoBd46xI",
        "outputId": "ccdf2f81-e4a4-4c13-b4b7-596be0eb3d5e"
      },
      "execution_count": 5,
      "outputs": [
        {
          "output_type": "execute_result",
          "data": {
            "text/plain": [
              "(20641, 3)"
            ]
          },
          "metadata": {},
          "execution_count": 5
        }
      ]
    },
    {
      "cell_type": "code",
      "source": [
        "print(\"The no. of rows: \",df.shape[0], \"\\n\"\"The no. of columns: \",df.shape[1])"
      ],
      "metadata": {
        "colab": {
          "base_uri": "https://localhost:8080/"
        },
        "id": "I1H878YRMSDj",
        "outputId": "d602673c-7b24-4bbd-a2ef-f05afbd54e57"
      },
      "execution_count": 6,
      "outputs": [
        {
          "output_type": "stream",
          "name": "stdout",
          "text": [
            "The no. of rows:  20641 \n",
            "The no. of columns:  3\n"
          ]
        }
      ]
    },
    {
      "cell_type": "code",
      "source": [
        "df.info()"
      ],
      "metadata": {
        "colab": {
          "base_uri": "https://localhost:8080/"
        },
        "id": "dyZnHGdU498Z",
        "outputId": "63519e41-aed6-4ab3-98da-3f8821979ea2"
      },
      "execution_count": 7,
      "outputs": [
        {
          "output_type": "stream",
          "name": "stdout",
          "text": [
            "<class 'pandas.core.frame.DataFrame'>\n",
            "RangeIndex: 20641 entries, 0 to 20640\n",
            "Data columns (total 3 columns):\n",
            " #   Column    Non-Null Count  Dtype \n",
            "---  ------    --------------  ----- \n",
            " 0   Date      20641 non-null  object\n",
            " 1   Order_id  20641 non-null  int64 \n",
            " 2   Product   20641 non-null  object\n",
            "dtypes: int64(1), object(2)\n",
            "memory usage: 483.9+ KB\n"
          ]
        }
      ]
    },
    {
      "cell_type": "code",
      "source": [
        "df.dtypes"
      ],
      "metadata": {
        "colab": {
          "base_uri": "https://localhost:8080/"
        },
        "id": "UiOxzmnF4-0k",
        "outputId": "3e40ac28-afaa-4634-85c2-a7684aeb8bd6"
      },
      "execution_count": 8,
      "outputs": [
        {
          "output_type": "execute_result",
          "data": {
            "text/plain": [
              "Date        object\n",
              "Order_id     int64\n",
              "Product     object\n",
              "dtype: object"
            ]
          },
          "metadata": {},
          "execution_count": 8
        }
      ]
    },
    {
      "cell_type": "code",
      "source": [
        "df.isnull().sum()"
      ],
      "metadata": {
        "colab": {
          "base_uri": "https://localhost:8080/"
        },
        "id": "foiNsYP45AyX",
        "outputId": "5640b167-0fb8-4925-90c1-d7180ad23ce5"
      },
      "execution_count": 9,
      "outputs": [
        {
          "output_type": "execute_result",
          "data": {
            "text/plain": [
              "Date        0\n",
              "Order_id    0\n",
              "Product     0\n",
              "dtype: int64"
            ]
          },
          "metadata": {},
          "execution_count": 9
        }
      ]
    },
    {
      "cell_type": "code",
      "source": [
        "df.describe()"
      ],
      "metadata": {
        "colab": {
          "base_uri": "https://localhost:8080/",
          "height": 300
        },
        "id": "cirdjZPa5CTV",
        "outputId": "70c3064d-b436-4db5-e881-b1e7a1e09cc2"
      },
      "execution_count": 10,
      "outputs": [
        {
          "output_type": "execute_result",
          "data": {
            "text/plain": [
              "           Order_id\n",
              "count  20641.000000\n",
              "mean     575.986289\n",
              "std      328.557078\n",
              "min        1.000000\n",
              "25%      292.000000\n",
              "50%      581.000000\n",
              "75%      862.000000\n",
              "max     1139.000000"
            ],
            "text/html": [
              "\n",
              "  <div id=\"df-52e7ddbb-9ee9-4f7e-832e-ea2b33bee241\">\n",
              "    <div class=\"colab-df-container\">\n",
              "      <div>\n",
              "<style scoped>\n",
              "    .dataframe tbody tr th:only-of-type {\n",
              "        vertical-align: middle;\n",
              "    }\n",
              "\n",
              "    .dataframe tbody tr th {\n",
              "        vertical-align: top;\n",
              "    }\n",
              "\n",
              "    .dataframe thead th {\n",
              "        text-align: right;\n",
              "    }\n",
              "</style>\n",
              "<table border=\"1\" class=\"dataframe\">\n",
              "  <thead>\n",
              "    <tr style=\"text-align: right;\">\n",
              "      <th></th>\n",
              "      <th>Order_id</th>\n",
              "    </tr>\n",
              "  </thead>\n",
              "  <tbody>\n",
              "    <tr>\n",
              "      <th>count</th>\n",
              "      <td>20641.000000</td>\n",
              "    </tr>\n",
              "    <tr>\n",
              "      <th>mean</th>\n",
              "      <td>575.986289</td>\n",
              "    </tr>\n",
              "    <tr>\n",
              "      <th>std</th>\n",
              "      <td>328.557078</td>\n",
              "    </tr>\n",
              "    <tr>\n",
              "      <th>min</th>\n",
              "      <td>1.000000</td>\n",
              "    </tr>\n",
              "    <tr>\n",
              "      <th>25%</th>\n",
              "      <td>292.000000</td>\n",
              "    </tr>\n",
              "    <tr>\n",
              "      <th>50%</th>\n",
              "      <td>581.000000</td>\n",
              "    </tr>\n",
              "    <tr>\n",
              "      <th>75%</th>\n",
              "      <td>862.000000</td>\n",
              "    </tr>\n",
              "    <tr>\n",
              "      <th>max</th>\n",
              "      <td>1139.000000</td>\n",
              "    </tr>\n",
              "  </tbody>\n",
              "</table>\n",
              "</div>\n",
              "      <button class=\"colab-df-convert\" onclick=\"convertToInteractive('df-52e7ddbb-9ee9-4f7e-832e-ea2b33bee241')\"\n",
              "              title=\"Convert this dataframe to an interactive table.\"\n",
              "              style=\"display:none;\">\n",
              "        \n",
              "  <svg xmlns=\"http://www.w3.org/2000/svg\" height=\"24px\"viewBox=\"0 0 24 24\"\n",
              "       width=\"24px\">\n",
              "    <path d=\"M0 0h24v24H0V0z\" fill=\"none\"/>\n",
              "    <path d=\"M18.56 5.44l.94 2.06.94-2.06 2.06-.94-2.06-.94-.94-2.06-.94 2.06-2.06.94zm-11 1L8.5 8.5l.94-2.06 2.06-.94-2.06-.94L8.5 2.5l-.94 2.06-2.06.94zm10 10l.94 2.06.94-2.06 2.06-.94-2.06-.94-.94-2.06-.94 2.06-2.06.94z\"/><path d=\"M17.41 7.96l-1.37-1.37c-.4-.4-.92-.59-1.43-.59-.52 0-1.04.2-1.43.59L10.3 9.45l-7.72 7.72c-.78.78-.78 2.05 0 2.83L4 21.41c.39.39.9.59 1.41.59.51 0 1.02-.2 1.41-.59l7.78-7.78 2.81-2.81c.8-.78.8-2.07 0-2.86zM5.41 20L4 18.59l7.72-7.72 1.47 1.35L5.41 20z\"/>\n",
              "  </svg>\n",
              "      </button>\n",
              "      \n",
              "  <style>\n",
              "    .colab-df-container {\n",
              "      display:flex;\n",
              "      flex-wrap:wrap;\n",
              "      gap: 12px;\n",
              "    }\n",
              "\n",
              "    .colab-df-convert {\n",
              "      background-color: #E8F0FE;\n",
              "      border: none;\n",
              "      border-radius: 50%;\n",
              "      cursor: pointer;\n",
              "      display: none;\n",
              "      fill: #1967D2;\n",
              "      height: 32px;\n",
              "      padding: 0 0 0 0;\n",
              "      width: 32px;\n",
              "    }\n",
              "\n",
              "    .colab-df-convert:hover {\n",
              "      background-color: #E2EBFA;\n",
              "      box-shadow: 0px 1px 2px rgba(60, 64, 67, 0.3), 0px 1px 3px 1px rgba(60, 64, 67, 0.15);\n",
              "      fill: #174EA6;\n",
              "    }\n",
              "\n",
              "    [theme=dark] .colab-df-convert {\n",
              "      background-color: #3B4455;\n",
              "      fill: #D2E3FC;\n",
              "    }\n",
              "\n",
              "    [theme=dark] .colab-df-convert:hover {\n",
              "      background-color: #434B5C;\n",
              "      box-shadow: 0px 1px 3px 1px rgba(0, 0, 0, 0.15);\n",
              "      filter: drop-shadow(0px 1px 2px rgba(0, 0, 0, 0.3));\n",
              "      fill: #FFFFFF;\n",
              "    }\n",
              "  </style>\n",
              "\n",
              "      <script>\n",
              "        const buttonEl =\n",
              "          document.querySelector('#df-52e7ddbb-9ee9-4f7e-832e-ea2b33bee241 button.colab-df-convert');\n",
              "        buttonEl.style.display =\n",
              "          google.colab.kernel.accessAllowed ? 'block' : 'none';\n",
              "\n",
              "        async function convertToInteractive(key) {\n",
              "          const element = document.querySelector('#df-52e7ddbb-9ee9-4f7e-832e-ea2b33bee241');\n",
              "          const dataTable =\n",
              "            await google.colab.kernel.invokeFunction('convertToInteractive',\n",
              "                                                     [key], {});\n",
              "          if (!dataTable) return;\n",
              "\n",
              "          const docLinkHtml = 'Like what you see? Visit the ' +\n",
              "            '<a target=\"_blank\" href=https://colab.research.google.com/notebooks/data_table.ipynb>data table notebook</a>'\n",
              "            + ' to learn more about interactive tables.';\n",
              "          element.innerHTML = '';\n",
              "          dataTable['output_type'] = 'display_data';\n",
              "          await google.colab.output.renderOutput(dataTable, element);\n",
              "          const docLink = document.createElement('div');\n",
              "          docLink.innerHTML = docLinkHtml;\n",
              "          element.appendChild(docLink);\n",
              "        }\n",
              "      </script>\n",
              "    </div>\n",
              "  </div>\n",
              "  "
            ]
          },
          "metadata": {},
          "execution_count": 10
        }
      ]
    },
    {
      "cell_type": "code",
      "source": [
        "print(\"The no. of duplicated rows is: \",df.duplicated().sum())"
      ],
      "metadata": {
        "colab": {
          "base_uri": "https://localhost:8080/"
        },
        "id": "9oYHwRbKuVnB",
        "outputId": "d6b72fac-32b0-4c8c-af0a-b3d6cbe2735a"
      },
      "execution_count": 11,
      "outputs": [
        {
          "output_type": "stream",
          "name": "stdout",
          "text": [
            "The no. of duplicated rows is:  4730\n"
          ]
        }
      ]
    },
    {
      "cell_type": "code",
      "source": [
        "df['Product'].value_counts().sort_index()"
      ],
      "metadata": {
        "colab": {
          "base_uri": "https://localhost:8080/"
        },
        "id": "egncpQXB5bag",
        "outputId": "931c36e9-fceb-46bf-dba4-b96b5ed97623"
      },
      "execution_count": 16,
      "outputs": [
        {
          "output_type": "execute_result",
          "data": {
            "text/plain": [
              "all- purpose                    551\n",
              "aluminum foil                   566\n",
              "bagels                          573\n",
              "beef                            561\n",
              "butter                          555\n",
              "cereals                         591\n",
              "cheeses                         578\n",
              "coffee/tea                      565\n",
              "dinner rolls                    567\n",
              "dishwashing liquid/detergent    551\n",
              "eggs                            570\n",
              "flour                           555\n",
              "fruits                          529\n",
              "hand soap                       502\n",
              "ice cream                       579\n",
              "individual meals                544\n",
              "juice                           570\n",
              "ketchup                         548\n",
              "laundry detergent               542\n",
              "lunch meat                      573\n",
              "milk                            555\n",
              "mixes                           554\n",
              "paper towels                    556\n",
              "pasta                           542\n",
              "pork                            531\n",
              "poultry                         640\n",
              "sandwich bags                   536\n",
              "sandwich loaves                 523\n",
              "shampoo                         562\n",
              "soap                            574\n",
              "soda                            597\n",
              "spaghetti sauce                 536\n",
              "sugar                           533\n",
              "toilet paper                    569\n",
              "tortillas                       543\n",
              "waffles                         575\n",
              "yogurt                          545\n",
              "Name: Product, dtype: int64"
            ]
          },
          "metadata": {},
          "execution_count": 16
        }
      ]
    },
    {
      "cell_type": "code",
      "source": [
        "print('The total number of unique dates are',df['Date'].nunique())"
      ],
      "metadata": {
        "colab": {
          "base_uri": "https://localhost:8080/"
        },
        "id": "gaHtwt1TK9a0",
        "outputId": "a0d67b5d-50aa-41fb-ba64-f0b4ed3d23ac"
      },
      "execution_count": 12,
      "outputs": [
        {
          "output_type": "stream",
          "name": "stdout",
          "text": [
            "The total number of unique dates are 603\n"
          ]
        }
      ]
    },
    {
      "cell_type": "code",
      "source": [
        "print('The total number of unique order id are',df['Order_id'].nunique())"
      ],
      "metadata": {
        "colab": {
          "base_uri": "https://localhost:8080/"
        },
        "id": "wcUUG8zaLEhh",
        "outputId": "7ac9714e-f3af-422e-bcb6-2640d33e3984"
      },
      "execution_count": 13,
      "outputs": [
        {
          "output_type": "stream",
          "name": "stdout",
          "text": [
            "The total number of unique order id are 1139\n"
          ]
        }
      ]
    },
    {
      "cell_type": "code",
      "source": [
        "print('The total number of unique products are',df['Product'].nunique())"
      ],
      "metadata": {
        "colab": {
          "base_uri": "https://localhost:8080/"
        },
        "id": "73CrZ0ldLG0v",
        "outputId": "b2aef3a5-ddde-430b-a00a-2155fdedcf99"
      },
      "execution_count": 14,
      "outputs": [
        {
          "output_type": "stream",
          "name": "stdout",
          "text": [
            "The total number of unique products are 37\n"
          ]
        }
      ]
    },
    {
      "cell_type": "code",
      "source": [
        "df['Product'].unique()"
      ],
      "metadata": {
        "colab": {
          "base_uri": "https://localhost:8080/"
        },
        "id": "dnMJI7A_LIWs",
        "outputId": "a4af2a75-b24d-4178-839c-d1e27889fa36"
      },
      "execution_count": 15,
      "outputs": [
        {
          "output_type": "execute_result",
          "data": {
            "text/plain": [
              "array(['yogurt', 'pork', 'sandwich bags', 'lunch meat', 'all- purpose',\n",
              "       'flour', 'soda', 'butter', 'beef', 'aluminum foil', 'dinner rolls',\n",
              "       'shampoo', 'mixes', 'soap', 'laundry detergent', 'ice cream',\n",
              "       'toilet paper', 'hand soap', 'waffles', 'cheeses', 'milk',\n",
              "       'dishwashing liquid/detergent', 'individual meals', 'cereals',\n",
              "       'tortillas', 'spaghetti sauce', 'ketchup', 'sandwich loaves',\n",
              "       'poultry', 'bagels', 'eggs', 'juice', 'pasta', 'paper towels',\n",
              "       'coffee/tea', 'fruits', 'sugar'], dtype=object)"
            ]
          },
          "metadata": {},
          "execution_count": 15
        }
      ]
    },
    {
      "cell_type": "code",
      "source": [
        "df['Date'].unique()"
      ],
      "metadata": {
        "colab": {
          "base_uri": "https://localhost:8080/"
        },
        "id": "zEIN9H0UMG-f",
        "outputId": "f0f44965-700c-4a40-ac3f-5c2c1e18e988"
      },
      "execution_count": 16,
      "outputs": [
        {
          "output_type": "execute_result",
          "data": {
            "text/plain": [
              "array(['01-01-2018', '02-01-2018', '03-01-2018', '04-01-2018',\n",
              "       '05-01-2018', '06-01-2018', '07-01-2018', '08-01-2018',\n",
              "       '09-01-2018', '10-01-2018', '11-01-2018', '12-01-2018',\n",
              "       '13-01-2018', '14-01-2018', '15-01-2018', '16-01-2018',\n",
              "       '17-01-2018', '18-01-2018', '19-01-2018', '20-01-2018',\n",
              "       '21-01-2018', '22-01-2018', '23-01-2018', '24-01-2018',\n",
              "       '25-01-2018', '26-01-2018', '27-01-2018', '28-01-2018',\n",
              "       '29-01-2018', '30-01-2018', '31-01-2018', '01-02-2018',\n",
              "       '02-02-2018', '03-02-2018', '04-02-2018', '05-02-2018',\n",
              "       '06-02-2018', '07-02-2018', '08-02-2018', '09-02-2018',\n",
              "       '10-02-2018', '11-02-2018', '12-02-2018', '13-02-2018',\n",
              "       '14-02-2018', '15-02-2018', '16-02-2018', '17-02-2018',\n",
              "       '18-02-2018', '19-02-2018', '20-02-2018', '21-02-2018',\n",
              "       '22-02-2018', '23-02-2018', '24-02-2018', '25-02-2018',\n",
              "       '26-02-2018', '27-02-2018', '28-02-2018', '01-03-2018',\n",
              "       '02-03-2018', '03-03-2018', '04-03-2018', '05-03-2018',\n",
              "       '06-03-2018', '07-03-2018', '08-03-2018', '09-03-2018',\n",
              "       '10-03-2018', '11-03-2018', '12-03-2018', '13-03-2018',\n",
              "       '14-03-2018', '15-03-2018', '16-03-2018', '17-03-2018',\n",
              "       '18-03-2018', '19-03-2018', '20-03-2018', '21-03-2018',\n",
              "       '22-03-2018', '23-03-2018', '24-03-2018', '25-03-2018',\n",
              "       '26-03-2018', '27-03-2018', '28-03-2018', '29-03-2018',\n",
              "       '30-03-2018', '31-03-2018', '01-04-2018', '02-04-2018',\n",
              "       '03-04-2018', '04-04-2018', '05-04-2018', '06-04-2018',\n",
              "       '07-04-2018', '08-04-2018', '09-04-2018', '10-04-2018',\n",
              "       '11-04-2018', '12-04-2018', '13-04-2018', '14-04-2018',\n",
              "       '15-04-2018', '16-04-2018', '17-04-2018', '18-04-2018',\n",
              "       '19-04-2018', '20-04-2018', '21-04-2018', '22-04-2018',\n",
              "       '23-04-2018', '24-04-2018', '25-04-2018', '26-04-2018',\n",
              "       '27-04-2018', '28-04-2018', '29-04-2018', '30-04-2018',\n",
              "       '01-05-2018', '02-05-2018', '03-05-2018', '04-05-2018',\n",
              "       '05-05-2018', '06-05-2018', '07-05-2018', '08-05-2018',\n",
              "       '09-05-2018', '10-05-2018', '11-05-2018', '12-05-2018',\n",
              "       '13-05-2018', '14-05-2018', '15-05-2018', '16-05-2018',\n",
              "       '17-05-2018', '18-05-2018', '19-05-2018', '20-05-2018',\n",
              "       '21-05-2018', '22-05-2018', '23-05-2018', '24-05-2018',\n",
              "       '25-05-2018', '26-05-2018', '27-05-2018', '28-05-2018',\n",
              "       '29-05-2018', '30-05-2018', '31-05-2018', '01-06-2018',\n",
              "       '02-06-2018', '03-06-2018', '04-06-2018', '05-06-2018',\n",
              "       '06-06-2018', '07-06-2018', '08-06-2018', '09-06-2018',\n",
              "       '10-06-2018', '11-06-2018', '12-06-2018', '13-06-2018',\n",
              "       '14-06-2018', '15-06-2018', '16-06-2018', '17-06-2018',\n",
              "       '18-06-2018', '19-06-2018', '20-06-2018', '21-06-2018',\n",
              "       '22-06-2018', '23-06-2018', '24-06-2018', '25-06-2018',\n",
              "       '26-06-2018', '27-06-2018', '28-06-2018', '29-06-2018',\n",
              "       '30-06-2018', '01-07-2018', '02-07-2018', '03-07-2018',\n",
              "       '04-07-2018', '05-07-2018', '06-07-2018', '07-07-2018',\n",
              "       '08-07-2018', '09-07-2018', '10-07-2018', '11-07-2018',\n",
              "       '12-07-2018', '13-07-2018', '14-07-2018', '15-07-2018',\n",
              "       '16-07-2018', '17-07-2018', '18-07-2018', '19-07-2018',\n",
              "       '20-07-2018', '21-07-2018', '22-07-2018', '23-07-2018',\n",
              "       '24-07-2018', '25-07-2018', '26-07-2018', '27-07-2018',\n",
              "       '28-07-2018', '29-07-2018', '30-07-2018', '31-07-2018',\n",
              "       '01-08-2018', '02-08-2018', '03-08-2018', '04-08-2018',\n",
              "       '05-08-2018', '06-08-2018', '07-08-2018', '08-08-2018',\n",
              "       '09-08-2018', '10-08-2018', '11-08-2018', '12-08-2018',\n",
              "       '13-08-2018', '14-08-2018', '15-08-2018', '16-08-2018',\n",
              "       '17-08-2018', '18-08-2018', '19-08-2018', '20-08-2018',\n",
              "       '21-08-2018', '22-08-2018', '23-08-2018', '24-08-2018',\n",
              "       '25-08-2018', '26-08-2018', '27-08-2018', '28-08-2018',\n",
              "       '29-08-2018', '30-08-2018', '31-08-2018', '01-09-2018',\n",
              "       '02-09-2018', '03-09-2018', '04-09-2018', '05-09-2018',\n",
              "       '06-09-2018', '07-09-2018', '08-09-2018', '09-09-2018',\n",
              "       '10-09-2018', '11-09-2018', '12-09-2018', '13-09-2018',\n",
              "       '14-09-2018', '15-09-2018', '16-09-2018', '17-09-2018',\n",
              "       '18-09-2018', '19-09-2018', '20-09-2018', '21-09-2018',\n",
              "       '22-09-2018', '23-09-2018', '24-09-2018', '25-09-2018',\n",
              "       '26-09-2018', '27-09-2018', '28-09-2018', '29-09-2018',\n",
              "       '30-09-2018', '01-01-2019', '02-01-2019', '03-01-2019',\n",
              "       '04-01-2019', '05-01-2019', '06-01-2019', '07-01-2019',\n",
              "       '08-01-2019', '09-01-2019', '10-01-2019', '11-01-2019',\n",
              "       '12-01-2019', '13-01-2019', '14-01-2019', '15-01-2019',\n",
              "       '16-01-2019', '17-01-2019', '18-01-2019', '19-01-2019',\n",
              "       '20-01-2019', '21-01-2019', '22-01-2019', '23-01-2019',\n",
              "       '24-01-2019', '25-01-2019', '26-01-2019', '27-01-2019',\n",
              "       '28-01-2019', '29-01-2019', '30-01-2019', '31-01-2019',\n",
              "       '01-02-2019', '02-02-2019', '03-02-2019', '04-02-2019',\n",
              "       '05-02-2019', '06-02-2019', '07-02-2019', '08-02-2019',\n",
              "       '09-02-2019', '10-02-2019', '11-02-2019', '12-02-2019',\n",
              "       '13-02-2019', '14-02-2019', '15-02-2019', '16-02-2019',\n",
              "       '17-02-2019', '18-02-2019', '19-02-2019', '20-02-2019',\n",
              "       '21-02-2019', '22-02-2019', '23-02-2019', '24-02-2019',\n",
              "       '25-02-2019', '26-02-2019', '27-02-2019', '28-02-2019',\n",
              "       '01-03-2019', '02-03-2019', '03-03-2019', '04-03-2019',\n",
              "       '05-03-2019', '06-03-2019', '07-03-2019', '08-03-2019',\n",
              "       '09-03-2019', '10-03-2019', '11-03-2019', '12-03-2019',\n",
              "       '13-03-2019', '14-03-2019', '15-03-2019', '16-03-2019',\n",
              "       '17-03-2019', '18-03-2019', '19-03-2019', '20-03-2019',\n",
              "       '21-03-2019', '22-03-2019', '23-03-2019', '24-03-2019',\n",
              "       '25-03-2019', '26-03-2019', '27-03-2019', '28-03-2019',\n",
              "       '29-03-2019', '30-03-2019', '31-03-2019', '01-04-2019',\n",
              "       '02-04-2019', '03-04-2019', '04-04-2019', '05-04-2019',\n",
              "       '06-04-2019', '07-04-2019', '08-04-2019', '09-04-2019',\n",
              "       '10-04-2019', '11-04-2019', '12-04-2019', '13-04-2019',\n",
              "       '14-04-2019', '15-04-2019', '16-04-2019', '17-04-2019',\n",
              "       '18-04-2019', '19-04-2019', '20-04-2019', '21-04-2019',\n",
              "       '22-04-2019', '23-04-2019', '24-04-2019', '25-04-2019',\n",
              "       '26-04-2019', '27-04-2019', '28-04-2019', '29-04-2019',\n",
              "       '30-04-2019', '01-05-2019', '02-05-2019', '03-05-2019',\n",
              "       '04-05-2019', '05-05-2019', '06-05-2019', '07-05-2019',\n",
              "       '08-05-2019', '09-05-2019', '10-05-2019', '11-05-2019',\n",
              "       '12-05-2019', '13-05-2019', '14-05-2019', '15-05-2019',\n",
              "       '16-05-2019', '17-05-2019', '18-05-2019', '19-05-2019',\n",
              "       '20-05-2019', '21-05-2019', '22-05-2019', '23-05-2019',\n",
              "       '24-05-2019', '25-05-2019', '26-05-2019', '27-05-2019',\n",
              "       '28-05-2019', '29-05-2019', '30-05-2019', '31-05-2019',\n",
              "       '01-06-2019', '02-06-2019', '03-06-2019', '04-06-2019',\n",
              "       '05-06-2019', '06-06-2019', '07-06-2019', '08-06-2019',\n",
              "       '09-06-2019', '10-06-2019', '11-06-2019', '12-06-2019',\n",
              "       '13-06-2019', '14-06-2019', '15-06-2019', '16-06-2019',\n",
              "       '17-06-2019', '18-06-2019', '19-06-2019', '20-06-2019',\n",
              "       '21-06-2019', '22-06-2019', '23-06-2019', '24-06-2019',\n",
              "       '25-06-2019', '26-06-2019', '27-06-2019', '28-06-2019',\n",
              "       '29-06-2019', '30-06-2019', '01-07-2019', '02-07-2019',\n",
              "       '03-07-2019', '04-07-2019', '05-07-2019', '06-07-2019',\n",
              "       '07-07-2019', '08-07-2019', '09-07-2019', '10-07-2019',\n",
              "       '11-07-2019', '12-07-2019', '13-07-2019', '14-07-2019',\n",
              "       '15-07-2019', '16-07-2019', '17-07-2019', '18-07-2019',\n",
              "       '19-07-2019', '20-07-2019', '21-07-2019', '22-07-2019',\n",
              "       '23-07-2019', '24-07-2019', '25-07-2019', '26-07-2019',\n",
              "       '27-07-2019', '28-07-2019', '29-07-2019', '30-07-2019',\n",
              "       '31-07-2019', '01-08-2019', '02-08-2019', '03-08-2019',\n",
              "       '04-08-2019', '05-08-2019', '06-08-2019', '07-08-2019',\n",
              "       '08-08-2019', '09-08-2019', '10-08-2019', '11-08-2019',\n",
              "       '12-08-2019', '13-08-2019', '14-08-2019', '15-08-2019',\n",
              "       '16-08-2019', '17-08-2019', '18-08-2019', '19-08-2019',\n",
              "       '20-08-2019', '21-08-2019', '22-08-2019', '23-08-2019',\n",
              "       '24-08-2019', '25-08-2019', '26-08-2019', '27-08-2019',\n",
              "       '28-08-2019', '29-08-2019', '30-08-2019', '31-08-2019',\n",
              "       '01-09-2019', '02-09-2019', '03-09-2019', '04-09-2019',\n",
              "       '05-09-2019', '06-09-2019', '07-09-2019', '08-09-2019',\n",
              "       '09-09-2019', '10-09-2019', '11-09-2019', '12-09-2019',\n",
              "       '13-09-2019', '14-09-2019', '15-09-2019', '16-09-2019',\n",
              "       '17-09-2019', '18-09-2019', '19-09-2019', '20-09-2019',\n",
              "       '21-09-2019', '22-09-2019', '23-09-2019', '24-09-2019',\n",
              "       '25-09-2019', '26-09-2019', '27-09-2019', '28-09-2019',\n",
              "       '29-09-2019', '30-09-2019', '01-01-2020', '02-01-2020',\n",
              "       '03-01-2020', '04-01-2020', '05-01-2020', '06-01-2020',\n",
              "       '07-01-2020', '08-01-2020', '09-01-2020', '10-01-2020',\n",
              "       '11-01-2020', '12-01-2020', '13-01-2020', '14-01-2020',\n",
              "       '15-01-2020', '16-01-2020', '17-01-2020', '18-01-2020',\n",
              "       '19-01-2020', '20-01-2020', '21-01-2020', '22-01-2020',\n",
              "       '23-01-2020', '24-01-2020', '25-01-2020', '26-01-2020',\n",
              "       '27-01-2020', '28-01-2020', '29-01-2020', '30-01-2020',\n",
              "       '31-01-2020', '01-02-2020', '02-02-2020', '03-02-2020',\n",
              "       '04-02-2020', '05-02-2020', '06-02-2020', '07-02-2020',\n",
              "       '08-02-2020', '09-02-2020', '10-02-2020', '11-02-2020',\n",
              "       '12-02-2020', '13-02-2020', '14-02-2020', '15-02-2020',\n",
              "       '16-02-2020', '17-02-2020', '18-02-2020', '19-02-2020',\n",
              "       '20-02-2020', '21-02-2020', '22-02-2020', '23-02-2020',\n",
              "       '24-02-2020', '25-02-2020', '26-02-2020'], dtype=object)"
            ]
          },
          "metadata": {},
          "execution_count": 16
        }
      ]
    },
    {
      "cell_type": "code",
      "source": [
        ""
      ],
      "metadata": {
        "id": "d64us8AVN64L"
      },
      "execution_count": null,
      "outputs": []
    }
  ]
}